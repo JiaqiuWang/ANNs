{
 "cells": [
  {
   "cell_type": "code",
   "execution_count": 1,
   "outputs": [
    {
     "name": "stdout",
     "output_type": "stream",
     "text": [
      "[-0.82821918 -0.99257757 -0.03557765 ... -0.00929687 -0.11744904\n",
      " -0.60401909]\n"
     ]
    }
   ],
   "source": [
    "\"\"\"\n",
    "第一种：numpy.random生成半开区间上的均匀分布\n",
    "\"\"\"\n",
    "import numpy as np\n",
    "\n",
    "number_of_samples = 1200\n",
    "low = -1\n",
    "high = 0\n",
    "s = np.random.uniform(low, high, number_of_samples)\n",
    "print(s)"
   ],
   "metadata": {
    "collapsed": false,
    "pycharm": {
     "name": "#%%\n"
    }
   }
  },
  {
   "cell_type": "code",
   "execution_count": 2,
   "outputs": [
    {
     "data": {
      "text/plain": "<Figure size 432x288 with 1 Axes>",
      "image/png": "[encoded data removed]"
     },
     "metadata": {
      "needs_background": "light"
     },
     "output_type": "display_data"
    }
   ],
   "source": [
    "import matplotlib.pyplot as plt\n",
    "plt.hist(s)\n",
    "plt.show()"
   ],
   "metadata": {
    "collapsed": false,
    "pycharm": {
     "name": "#%%\n"
    }
   }
  },
  {
   "cell_type": "code",
   "execution_count": 3,
   "outputs": [
    {
     "name": "stdout",
     "output_type": "stream",
     "text": [
      "[49 47 48 ... 53 45 52]\n"
     ]
    },
    {
     "data": {
      "text/plain": "<Figure size 432x288 with 1 Axes>",
      "image/png": "[encoded data removed]"
     },
     "metadata": {
      "needs_background": "light"
     },
     "output_type": "display_data"
    }
   ],
   "source": [
    "\"\"\"\n",
    "第二种：numpy.random生成二项分布\n",
    "binomial(n, p, size = None)\n",
    "n次实验，每次成功的概率为p\n",
    "\"\"\"\n",
    "s = np.random.binomial(100, 0.5, 1200)\n",
    "print(s)\n",
    "plt.hist(s)\n",
    "plt.show()"
   ],
   "metadata": {
    "collapsed": false,
    "pycharm": {
     "name": "#%%\n"
    }
   }
  },
  {
   "cell_type": "code",
   "execution_count": 4,
   "outputs": [
    {
     "data": {
      "text/plain": "<Figure size 432x288 with 1 Axes>",
      "image/png": "[encoded data removed]"
     },
     "metadata": {
      "needs_background": "light"
     },
     "output_type": "display_data"
    }
   ],
   "source": [
    "\"\"\"\n",
    "第三种：numpy.random.normal不能指定区间值\n",
    "引入scipy.stats.truncnorm\n",
    "\"\"\"\n",
    "import matplotlib.pyplot as plt\n",
    "from scipy.stats import truncnorm\n",
    "\n",
    "\n",
    "# mean:均值；sd：标准差\n",
    "def truncated_normal(mean=0, sd=1.0, low=0.0, upp=10.0):\n",
    "    return truncnorm(\n",
    "        (low - mean) / sd, (upp - mean) / sd, loc=mean, scale=sd)\n",
    "\n",
    "\n",
    "X = truncated_normal(mean=0, sd=0.4, low=-0.5, upp=0.5)\n",
    "s = X.rvs(size=10000)\n",
    "\n",
    "plt.hist(s)\n",
    "plt.show()"
   ],
   "metadata": {
    "collapsed": false,
    "pycharm": {
     "name": "#%%\n"
    }
   }
  },
  {
   "cell_type": "code",
   "execution_count": 5,
   "outputs": [
    {
     "name": "stdout",
     "output_type": "stream",
     "text": [
      "wih:\n",
      " [[-0.29154806 -0.1839663   0.01638667]\n",
      " [ 0.46426135 -0.0621927   0.17849539]\n",
      " [ 0.5406452  -0.03907364  0.53315911]\n",
      " [ 0.42888874  0.32930344 -0.06609204]]\n"
     ]
    }
   ],
   "source": [
    "import numpy as np\n",
    "no_of_input_nodes = 3\n",
    "no_of_hidden_nodes = 4\n",
    "rad = 1 / np.sqrt(no_of_input_nodes)\n",
    "\n",
    "X = truncated_normal(mean=2, sd=1, low=-rad, upp=rad)\n",
    "wih = X.rvs((no_of_hidden_nodes, no_of_input_nodes))\n",
    "print('wih:\\n', wih)\n"
   ],
   "metadata": {
    "collapsed": false,
    "pycharm": {
     "name": "#%%\n"
    }
   }
  },
  {
   "cell_type": "code",
   "execution_count": 6,
   "outputs": [
    {
     "name": "stdout",
     "output_type": "stream",
     "text": [
      "who:\n",
      " [[ 0.39164437  0.00211007  0.12355934  0.47021359]\n",
      " [ 0.49499766  0.44177754 -0.11897661  0.41449103]]\n"
     ]
    }
   ],
   "source": [
    "no_of_hidden_nodes = 4\n",
    "no_of_output_nodes = 2\n",
    "# this is the input in this layer!\n",
    "rad = 1 / np.sqrt(no_of_hidden_nodes)\n",
    "\n",
    "X = truncated_normal(mean=2, sd=1, low=-rad, upp=rad)\n",
    "who =X.rvs((no_of_output_nodes, no_of_hidden_nodes))\n",
    "print('who:\\n', who)"
   ],
   "metadata": {
    "collapsed": false,
    "pycharm": {
     "name": "#%%\n"
    }
   }
  },
  {
   "cell_type": "code",
   "execution_count": 1,
   "outputs": [
    {
     "name": "stdout",
     "output_type": "stream",
     "text": [
      "soft_exp: [2.718281828459045, 7.38905609893065, 148.4131591025766, 54.598150033144236, 7.38905609893065]\n",
      "[0.012, 0.034, 0.673, 0.248, 0.034]\n"
     ]
    }
   ],
   "source": [
    "import math\n",
    "\"\"\"\n",
    "softmax函数样例\n",
    "\"\"\"\n",
    "# 输入多变量 K : 1.0, 2.0, 5.0, 4.0, 2.0\n",
    "soft_input = [1.0, 2.0, 5.0, 4.0, 2.0]\n",
    "\n",
    "# 计算每一个 e^{z_k} 的值\n",
    "soft_exp = [math.exp(i) for i in soft_input]\n",
    "# [e_{1}, e_{2}, e_{5}, e_{2}]\n",
    "print('soft_exp:', soft_exp)\n",
    "\n",
    "# 计算 e^{z_k} 从 1 到 k 的值和\n",
    "sum_soft_exp = sum(soft_exp)\n",
    "\n",
    "# 每一个元素与和的概率比例， 最终计算的结果，保留三位小数，\n",
    "softmax = [round(i / sum_soft_exp, 3) for i in soft_exp]\n",
    "\n",
    "print(softmax)\n",
    "# 输出结果： [0.012, 0.034, 0.673, 0.248, 0.034]\n",
    "\n"
   ],
   "metadata": {
    "collapsed": false,
    "pycharm": {
     "name": "#%%\n"
    }
   }
  }
 ],
 "metadata": {
  "kernelspec": {
   "display_name": "Python 3",
   "language": "python",
   "name": "python3"
  },
  "language_info": {
   "codemirror_mode": {
    "name": "ipython",
    "version": 2
   },
   "file_extension": ".py",
   "mimetype": "text/x-python",
   "name": "python",
   "nbconvert_exporter": "python",
   "pygments_lexer": "ipython2",
   "version": "2.7.6"
  }
 },
 "nbformat": 4,
 "nbformat_minor": 0
}